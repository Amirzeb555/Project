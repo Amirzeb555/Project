{
 "cells": [
  {
   "cell_type": "code",
   "execution_count": 1,
   "metadata": {},
   "outputs": [],
   "source": [
    "import numpy as np\n",
    "import pandas as pd\n",
    "import cv2\n",
    "import time"
   ]
  },
  {
   "cell_type": "code",
   "execution_count": 3,
   "metadata": {},
   "outputs": [
    {
     "ename": "ValueError",
     "evalue": "not enough values to unpack (expected 3, got 2)",
     "output_type": "error",
     "traceback": [
      "\u001b[1;31m---------------------------------------------------------------------------\u001b[0m",
      "\u001b[1;31mValueError\u001b[0m                                Traceback (most recent call last)",
      "\u001b[1;32m<ipython-input-3-8ad5b92ab32e>\u001b[0m in \u001b[0;36m<module>\u001b[1;34m()\u001b[0m\n\u001b[0;32m      9\u001b[0m         \u001b[0mblue\u001b[0m \u001b[1;33m=\u001b[0m \u001b[0mcv2\u001b[0m\u001b[1;33m.\u001b[0m\u001b[0minRange\u001b[0m\u001b[1;33m(\u001b[0m\u001b[0mframe\u001b[0m\u001b[1;33m,\u001b[0m \u001b[0mblueLower\u001b[0m\u001b[1;33m,\u001b[0m \u001b[0mblueUpper\u001b[0m\u001b[1;33m)\u001b[0m\u001b[1;33m\u001b[0m\u001b[0m\n\u001b[0;32m     10\u001b[0m         \u001b[0mblue\u001b[0m \u001b[1;33m=\u001b[0m \u001b[0mcv2\u001b[0m\u001b[1;33m.\u001b[0m\u001b[0mGaussianBlur\u001b[0m\u001b[1;33m(\u001b[0m\u001b[0mblue\u001b[0m\u001b[1;33m,\u001b[0m \u001b[1;33m(\u001b[0m\u001b[1;36m3\u001b[0m\u001b[1;33m,\u001b[0m \u001b[1;36m3\u001b[0m\u001b[1;33m)\u001b[0m\u001b[1;33m,\u001b[0m \u001b[1;36m0\u001b[0m\u001b[1;33m)\u001b[0m\u001b[1;33m\u001b[0m\u001b[0m\n\u001b[1;32m---> 11\u001b[1;33m         \u001b[1;33m(\u001b[0m\u001b[0m_\u001b[0m\u001b[1;33m,\u001b[0m \u001b[0mcnts\u001b[0m\u001b[1;33m,\u001b[0m \u001b[0m_\u001b[0m\u001b[1;33m)\u001b[0m \u001b[1;33m=\u001b[0m \u001b[0mcv2\u001b[0m\u001b[1;33m.\u001b[0m\u001b[0mfindContours\u001b[0m\u001b[1;33m(\u001b[0m\u001b[0mblue\u001b[0m\u001b[1;33m.\u001b[0m\u001b[0mcopy\u001b[0m\u001b[1;33m(\u001b[0m\u001b[1;33m)\u001b[0m\u001b[1;33m,\u001b[0m \u001b[0mcv2\u001b[0m\u001b[1;33m.\u001b[0m\u001b[0mRETR_EXTERNAL\u001b[0m\u001b[1;33m,\u001b[0m\u001b[0mcv2\u001b[0m\u001b[1;33m.\u001b[0m\u001b[0mCHAIN_APPROX_SIMPLE\u001b[0m\u001b[1;33m)\u001b[0m\u001b[1;33m\u001b[0m\u001b[0m\n\u001b[0m\u001b[0;32m     12\u001b[0m         \u001b[1;32mif\u001b[0m \u001b[0mlen\u001b[0m\u001b[1;33m(\u001b[0m\u001b[0mcnts\u001b[0m\u001b[1;33m)\u001b[0m \u001b[1;33m>\u001b[0m \u001b[1;36m0\u001b[0m\u001b[1;33m:\u001b[0m\u001b[1;33m\u001b[0m\u001b[0m\n\u001b[0;32m     13\u001b[0m             \u001b[0mcnt\u001b[0m \u001b[1;33m=\u001b[0m \u001b[0msorted\u001b[0m\u001b[1;33m(\u001b[0m\u001b[0mcnts\u001b[0m\u001b[1;33m,\u001b[0m \u001b[0mkey\u001b[0m \u001b[1;33m=\u001b[0m \u001b[0mcv2\u001b[0m\u001b[1;33m.\u001b[0m\u001b[0mcontourArea\u001b[0m\u001b[1;33m,\u001b[0m \u001b[0mreverse\u001b[0m \u001b[1;33m=\u001b[0m \u001b[1;32mTrue\u001b[0m\u001b[1;33m)\u001b[0m\u001b[1;33m[\u001b[0m\u001b[1;36m0\u001b[0m\u001b[1;33m]\u001b[0m\u001b[1;33m\u001b[0m\u001b[0m\n",
      "\u001b[1;31mValueError\u001b[0m: not enough values to unpack (expected 3, got 2)"
     ]
    }
   ],
   "source": [
    "blueLower = np.array([100, 67, 0], dtype = \"uint8\")\n",
    "blueUpper = np.array([255, 128, 50], dtype = \"uint8\")\n",
    "camera = cv2.VideoCapture(0)#'E:\\Machine Learning & Deep Learning (NAVTTC)-2021\\week no 15 computer vission\\iphonecase.mov')\n",
    "while True:\n",
    "        (grabbed, frame) = camera.read()\n",
    "        if not grabbed:\n",
    "            break\n",
    "            \n",
    "        blue = cv2.inRange(frame, blueLower, blueUpper)\n",
    "        blue = cv2.GaussianBlur(blue, (3, 3), 0)\n",
    "        (_, cnts, _) = cv2.findContours(blue.copy(), cv2.RETR_EXTERNAL,cv2.CHAIN_APPROX_SIMPLE)\n",
    "        if len(cnts) > 0:\n",
    "            cnt = sorted(cnts, key = cv2.contourArea, reverse = True)[0]\n",
    "            rect = np.int32(cv2.boxPoints(cv2.minAreaRect(cnt)))\n",
    "            cv2.drawContours(frame, [rect], -1, (0, 500, 0), 2)\n",
    "        cv2.imshow(\"Tracking\", frame)\n",
    "        cv2.imshow(\"Binary\", blue)\n",
    "        time.sleep(0.025)\n",
    "        if cv2.waitKey(1) & 0xFF == ord(\"q\"):\n",
    "            break\n",
    "camera.release()\n",
    "cv2.destroyAllWindows()\n"
   ]
  },
  {
   "cell_type": "code",
   "execution_count": 4,
   "metadata": {},
   "outputs": [
    {
     "ename": "ValueError",
     "evalue": "not enough values to unpack (expected 3, got 2)",
     "output_type": "error",
     "traceback": [
      "\u001b[1;31m---------------------------------------------------------------------------\u001b[0m",
      "\u001b[1;31mValueError\u001b[0m                                Traceback (most recent call last)",
      "\u001b[1;32m<ipython-input-4-3322bbe050f7>\u001b[0m in \u001b[0;36m<module>\u001b[1;34m()\u001b[0m\n\u001b[0;32m     11\u001b[0m         (_, cnts, _) = cv2.findContours(blue.copy(), cv2.\n\u001b[0;32m     12\u001b[0m        \u001b[0mRETR_EXTERNAL\u001b[0m\u001b[1;33m,\u001b[0m\u001b[1;33m\u001b[0m\u001b[0m\n\u001b[1;32m---> 13\u001b[1;33m        cv2.CHAIN_APPROX_SIMPLE)\n\u001b[0m\u001b[0;32m     14\u001b[0m         \u001b[1;32mif\u001b[0m \u001b[0mlen\u001b[0m\u001b[1;33m(\u001b[0m\u001b[0mcnts\u001b[0m\u001b[1;33m)\u001b[0m \u001b[1;33m>\u001b[0m \u001b[1;36m0\u001b[0m\u001b[1;33m:\u001b[0m\u001b[1;33m\u001b[0m\u001b[0m\n\u001b[0;32m     15\u001b[0m             \u001b[0mcnt\u001b[0m \u001b[1;33m=\u001b[0m \u001b[0msorted\u001b[0m\u001b[1;33m(\u001b[0m\u001b[0mcnts\u001b[0m\u001b[1;33m,\u001b[0m \u001b[0mkey\u001b[0m \u001b[1;33m=\u001b[0m \u001b[0mcv2\u001b[0m\u001b[1;33m.\u001b[0m\u001b[0mcontourArea\u001b[0m\u001b[1;33m,\u001b[0m \u001b[0mreverse\u001b[0m \u001b[1;33m=\u001b[0m \u001b[1;32mTrue\u001b[0m\u001b[1;33m)\u001b[0m\u001b[1;33m[\u001b[0m\u001b[1;36m0\u001b[0m\u001b[1;33m]\u001b[0m\u001b[1;33m\u001b[0m\u001b[0m\n",
      "\u001b[1;31mValueError\u001b[0m: not enough values to unpack (expected 3, got 2)"
     ]
    }
   ],
   "source": [
    "blueLower = np.array([100, 67, 0], dtype = \"uint8\")\n",
    "blueUpper = np.array([255, 128, 50], dtype = \"uint8\")\n",
    "camera = cv2.VideoCapture(0)#'E:\\Machine Learning & Deep Learning (NAVTTC)-2021\\week no 15 computer vission\\iphonecase.mov')\n",
    "while True:\n",
    "        (grabbed, frame) = camera.read()\n",
    "        if not grabbed:\n",
    "            break\n",
    "            \n",
    "        blue = cv2.inRange(frame, blueLower, blueUpper)\n",
    "        blue = cv2.GaussianBlur(blue, (3, 3), 0)\n",
    "        (_, cnts, _) = cv2.findContours(blue.copy(), cv2.\n",
    "       RETR_EXTERNAL,\n",
    "       cv2.CHAIN_APPROX_SIMPLE)\n",
    "        if len(cnts) > 0:\n",
    "            cnt = sorted(cnts, key = cv2.contourArea, reverse = True)[0]\n",
    "            rect = np.int32(cv2.boxPoints(cv2.minAreaRect(cnt)))\n",
    "            cv2.drawContours(frame, [rect], -1, (0, 500, 0), 2)\n",
    "        cv2.imshow(\"Tracking\", frame)\n",
    "        cv2.imshow(\"Binary\", blue)\n",
    "        time.sleep(0.025)\n",
    "        if cv2.waitKey(1) & 0xFF == ord(\"q\"):\n",
    "            break\n",
    "camera.release()\n",
    "cv2.destroyAllWindows()"
   ]
  },
  {
   "cell_type": "code",
   "execution_count": 5,
   "metadata": {},
   "outputs": [
    {
     "ename": "ValueError",
     "evalue": "not enough values to unpack (expected 3, got 2)",
     "output_type": "error",
     "traceback": [
      "\u001b[1;31m---------------------------------------------------------------------------\u001b[0m",
      "\u001b[1;31mValueError\u001b[0m                                Traceback (most recent call last)",
      "\u001b[1;32m<ipython-input-5-86d6bd5f878f>\u001b[0m in \u001b[0;36m<module>\u001b[1;34m()\u001b[0m\n\u001b[0;32m     15\u001b[0m         (_, cnts, _) = cv2.findContours(blue.copy(), cv2.\n\u001b[0;32m     16\u001b[0m        \u001b[0mRETR_EXTERNAL\u001b[0m\u001b[1;33m,\u001b[0m\u001b[1;33m\u001b[0m\u001b[0m\n\u001b[1;32m---> 17\u001b[1;33m        cv2.CHAIN_APPROX_SIMPLE)\n\u001b[0m\u001b[0;32m     18\u001b[0m         (_, cnts, _) = cv2.findContours(red.copy(), cv2.\n\u001b[0;32m     19\u001b[0m        \u001b[0mRETR_EXTERNAL\u001b[0m\u001b[1;33m,\u001b[0m\u001b[1;33m\u001b[0m\u001b[0m\n",
      "\u001b[1;31mValueError\u001b[0m: not enough values to unpack (expected 3, got 2)"
     ]
    }
   ],
   "source": [
    "blueLower = np.array([100, 67, 0], dtype = \"uint8\")\n",
    "blueUpper = np.array([255, 128, 50], dtype = \"uint8\")\n",
    "redLower = np.array([150, 167, 0], dtype = \"uint8\")\n",
    "redUpper = np.array([555, 200, 100], dtype = \"uint8\")\n",
    "camera = cv2.VideoCapture('E:\\Machine Learning & Deep Learning (NAVTTC)-2021\\week no 15 computer vission\\index_2.mp4')\n",
    "while True:\n",
    "        (grabbed, frame) = camera.read()\n",
    "        if not grabbed:\n",
    "            break\n",
    "            \n",
    "        blue = cv2.inRange(frame, blueLower, blueUpper)\n",
    "        blue = cv2.GaussianBlur(blue, (3, 3), 0)\n",
    "        red = cv2.inRange(frame, redLower, redUpper)\n",
    "        red = cv2.GaussianBlur(red, (3, 3), 0)\n",
    "        (_, cnts, _) = cv2.findContours(blue.copy(), cv2.\n",
    "       RETR_EXTERNAL,\n",
    "       cv2.CHAIN_APPROX_SIMPLE)\n",
    "        (_, cnts, _) = cv2.findContours(red.copy(), cv2.\n",
    "       RETR_EXTERNAL,\n",
    "       cv2.CHAIN_APPROX_SIMPLE)\n",
    "        if len(cnts) > 0:\n",
    "            cnt = sorted(cnts, key = cv2.contourArea, reverse = True)[0]\n",
    "            rect = np.int32(cv2.boxPoints(cv2.minAreaRect(cnt)))\n",
    "            cv2.drawContours(frame, [rect], -1, (0, 200, 0), 2)\n",
    "        cv2.imshow(\"Tracking\", frame)\n",
    "        cv2.imshow(\"Binary\", blue)\n",
    "        cv2.imshow(\"Tracking\", frame)\n",
    "        cv2.imshow(\"Binary\", blue)\n",
    "        time.sleep(0.025)\n",
    "        if len(cnts) > 0:\n",
    "            cnt = sorted(cnts, key = cv2.contourArea, reverse = True)[0]\n",
    "            rect = np.int32(cv2.boxPoints(cv2.minAreaRect(cnt)))\n",
    "            cv2.drawContours(frame, [rect], -1, (0, 200, 0), 2)\n",
    "        cv2.imshow(\"Tracking\", frame)\n",
    "        cv2.imshow(\"Binary\", red)\n",
    "        cv2.imshow(\"Tracking\", frame)\n",
    "        cv2.imshow(\"Binary\", red)\n",
    "        time.sleep(0.025)\n",
    "        if cv2.waitKey(1) & 0xFF == ord(\"q\"):\n",
    "            break\n",
    "camera.release()\n",
    "cv2.destroyAllWindows()"
   ]
  },
  {
   "cell_type": "code",
   "execution_count": null,
   "metadata": {},
   "outputs": [],
   "source": []
  }
 ],
 "metadata": {
  "kernelspec": {
   "display_name": "Python 3",
   "language": "python",
   "name": "python3"
  },
  "language_info": {
   "codemirror_mode": {
    "name": "ipython",
    "version": 3
   },
   "file_extension": ".py",
   "mimetype": "text/x-python",
   "name": "python",
   "nbconvert_exporter": "python",
   "pygments_lexer": "ipython3",
   "version": "3.6.5"
  }
 },
 "nbformat": 4,
 "nbformat_minor": 2
}
